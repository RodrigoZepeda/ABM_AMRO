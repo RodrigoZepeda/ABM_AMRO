{
 "cells": [
  {
   "cell_type": "code",
   "id": "5e24d0c780d4f424",
   "metadata": {
    "ExecuteTime": {
     "end_time": "2025-03-25T20:56:14.628585Z",
     "start_time": "2025-03-25T20:56:14.588544Z"
    }
   },
   "source": [
    "import pandas as pd\n",
    "import numpy as np\n",
    "import amro\n",
    "import seaborn as sns\n",
    "import matplotlib_inline.backend_inline\n",
    "import matplotlib.pyplot as plt\n",
    "from IPython.core.display import HTML\n",
    "\n",
    "# Context for figures in jupyter notebook\n",
    "sns.set(rc={\"figure.dpi\":200, 'savefig.dpi':300})\n",
    "sns.set_context('notebook')\n",
    "sns.set_style(\"ticks\")\n",
    "matplotlib_inline.backend_inline.set_matplotlib_formats(\"retina\")\n",
    "\n",
    "# My obsessive brain needs centered figures:\n",
    "# https://stackoverflow.com/a/66493988\n",
    "HTML(\"\"\"\n",
    "<style>\n",
    ".output_png {\n",
    "    display: table-cell;\n",
    "    text-align: center;\n",
    "    vertical-align: middle;\n",
    "}\n",
    "</style>\n",
    "\"\"\")"
   ],
   "outputs": [
    {
     "data": {
      "text/plain": [
       "<IPython.core.display.HTML object>"
      ],
      "text/html": [
       "\n",
       "<style>\n",
       ".output_png {\n",
       "    display: table-cell;\n",
       "    text-align: center;\n",
       "    vertical-align: middle;\n",
       "}\n",
       "</style>\n"
      ]
     },
     "execution_count": 1,
     "metadata": {},
     "output_type": "execute_result"
    }
   ],
   "execution_count": 1
  },
  {
   "metadata": {
    "ExecuteTime": {
     "end_time": "2025-03-25T20:56:14.634676Z",
     "start_time": "2025-03-25T20:56:14.630419Z"
    }
   },
   "cell_type": "code",
   "source": "amro.__version__",
   "id": "4b4b3055b566dfd4",
   "outputs": [
    {
     "data": {
      "text/plain": [
       "'0.2.2'"
      ]
     },
     "execution_count": 2,
     "metadata": {},
     "output_type": "execute_result"
    }
   ],
   "execution_count": 2
  },
  {
   "cell_type": "markdown",
   "id": "e8e523565d5e6d48",
   "metadata": {},
   "source": [
    "## Data\n",
    "The contact matrix we are using is the same as in Tal Robin's paper:\n",
    "https://doi.org/10.1371/journal.pone.0290821 its divided into two files: **wards** and **patients**\n"
   ]
  },
  {
   "cell_type": "markdown",
   "id": "aef1e706b011d2f1",
   "metadata": {},
   "source": [
    "### Wards\n",
    "The wards dataset contains information on each of the hospital's wards. The following are the variables in the dataset:\n",
    "* Day refers to the moment in time (day). These data span 1399 consecutive days (02/01/2009 to 11/30/2012) with the first day marking day 0. \n",
    "* Ward refers to the ward the individual was in. Individuals in the same ward are assumed to have higher levels of contamination. \n",
    "* Count refers to the number of individuals per day in each of the ward. Individuals that spent the day in more than one ward are counted as percentages. For example, an individual that spent their day in three wards counts as 0.33 for each of the wards they were in. "
   ]
  },
  {
   "cell_type": "code",
   "id": "d97055e74c929f6e",
   "metadata": {
    "ExecuteTime": {
     "end_time": "2025-03-25T20:56:14.745043Z",
     "start_time": "2025-03-25T20:56:14.640660Z"
    }
   },
   "source": [
    "total_patients_per_ward = pd.read_csv(\"../data/wards_py.csv\")\n",
    "total_patients_per_ward.head()"
   ],
   "outputs": [
    {
     "data": {
      "text/plain": [
       "   day  ward  count\n",
       "0    0     1    3.0\n",
       "1    0     2    8.0\n",
       "2    0     3   23.0\n",
       "3    0     4   16.0\n",
       "4    0     5    3.0"
      ],
      "text/html": [
       "<div>\n",
       "<style scoped>\n",
       "    .dataframe tbody tr th:only-of-type {\n",
       "        vertical-align: middle;\n",
       "    }\n",
       "\n",
       "    .dataframe tbody tr th {\n",
       "        vertical-align: top;\n",
       "    }\n",
       "\n",
       "    .dataframe thead th {\n",
       "        text-align: right;\n",
       "    }\n",
       "</style>\n",
       "<table border=\"1\" class=\"dataframe\">\n",
       "  <thead>\n",
       "    <tr style=\"text-align: right;\">\n",
       "      <th></th>\n",
       "      <th>day</th>\n",
       "      <th>ward</th>\n",
       "      <th>count</th>\n",
       "    </tr>\n",
       "  </thead>\n",
       "  <tbody>\n",
       "    <tr>\n",
       "      <th>0</th>\n",
       "      <td>0</td>\n",
       "      <td>1</td>\n",
       "      <td>3.0</td>\n",
       "    </tr>\n",
       "    <tr>\n",
       "      <th>1</th>\n",
       "      <td>0</td>\n",
       "      <td>2</td>\n",
       "      <td>8.0</td>\n",
       "    </tr>\n",
       "    <tr>\n",
       "      <th>2</th>\n",
       "      <td>0</td>\n",
       "      <td>3</td>\n",
       "      <td>23.0</td>\n",
       "    </tr>\n",
       "    <tr>\n",
       "      <th>3</th>\n",
       "      <td>0</td>\n",
       "      <td>4</td>\n",
       "      <td>16.0</td>\n",
       "    </tr>\n",
       "    <tr>\n",
       "      <th>4</th>\n",
       "      <td>0</td>\n",
       "      <td>5</td>\n",
       "      <td>3.0</td>\n",
       "    </tr>\n",
       "  </tbody>\n",
       "</table>\n",
       "</div>"
      ]
     },
     "execution_count": 3,
     "metadata": {},
     "output_type": "execute_result"
    }
   ],
   "execution_count": 3
  },
  {
   "cell_type": "markdown",
   "id": "3908c6d9620a3f3e",
   "metadata": {},
   "source": [
    "### Patients\n",
    "The patients dataset contains information on each of the patients with anonnymized MRNs. The following are the variables in the dataset:\n",
    "* `day` refers to the moment in time (day). These data span 1399 consecutive days (02/01/2009 to 11/30/2012) with the first day marking day 0. \n",
    "* `ward` refers to the ward the individual was in. Individuals in the same ward are assumed to have higher levels of contamination. This ward corresponds to the one in the **wards** dataset. \n",
    "* `MRN` is an annonymized unique identifier of the patient. \n",
    "* `is_new` indicates whether the patient just came into the hospital (`is_new = 1`) or they were hospitalized the day before (`is_new = 0`). This indicator helps the contamination variable. \n",
    "* `weight` is the weight of the individual for each ward. It is calculated as: `1/(number of wards mrn was in day d)`\n",
    "* `next_day` refers to the row number in which that individual appears again in the dataset in `dat + 1` (this is for speed purposes of the algorithm). Negative values imply that the individual never came back to the hospital. "
   ]
  },
  {
   "cell_type": "code",
   "id": "f8060d4d672dae2e",
   "metadata": {
    "ExecuteTime": {
     "end_time": "2025-03-25T20:56:15.876956Z",
     "start_time": "2025-03-25T20:56:14.751459Z"
    }
   },
   "source": [
    "ward_matrix = pd.read_csv(\"../data/patients_py.csv\")\n",
    "ward_matrix.head()"
   ],
   "outputs": [
    {
     "data": {
      "text/plain": [
       "   day  ward  MRN  is_new  weight  next_day\n",
       "0    0     1    1       1     1.0      1510\n",
       "1    0     1    2       1     1.0      1511\n",
       "2    0     1    3       1     1.0      1512\n",
       "3    0     2    4       1     1.0      1513\n",
       "4    0     2    5       1     1.0      1514"
      ],
      "text/html": [
       "<div>\n",
       "<style scoped>\n",
       "    .dataframe tbody tr th:only-of-type {\n",
       "        vertical-align: middle;\n",
       "    }\n",
       "\n",
       "    .dataframe tbody tr th {\n",
       "        vertical-align: top;\n",
       "    }\n",
       "\n",
       "    .dataframe thead th {\n",
       "        text-align: right;\n",
       "    }\n",
       "</style>\n",
       "<table border=\"1\" class=\"dataframe\">\n",
       "  <thead>\n",
       "    <tr style=\"text-align: right;\">\n",
       "      <th></th>\n",
       "      <th>day</th>\n",
       "      <th>ward</th>\n",
       "      <th>MRN</th>\n",
       "      <th>is_new</th>\n",
       "      <th>weight</th>\n",
       "      <th>next_day</th>\n",
       "    </tr>\n",
       "  </thead>\n",
       "  <tbody>\n",
       "    <tr>\n",
       "      <th>0</th>\n",
       "      <td>0</td>\n",
       "      <td>1</td>\n",
       "      <td>1</td>\n",
       "      <td>1</td>\n",
       "      <td>1.0</td>\n",
       "      <td>1510</td>\n",
       "    </tr>\n",
       "    <tr>\n",
       "      <th>1</th>\n",
       "      <td>0</td>\n",
       "      <td>1</td>\n",
       "      <td>2</td>\n",
       "      <td>1</td>\n",
       "      <td>1.0</td>\n",
       "      <td>1511</td>\n",
       "    </tr>\n",
       "    <tr>\n",
       "      <th>2</th>\n",
       "      <td>0</td>\n",
       "      <td>1</td>\n",
       "      <td>3</td>\n",
       "      <td>1</td>\n",
       "      <td>1.0</td>\n",
       "      <td>1512</td>\n",
       "    </tr>\n",
       "    <tr>\n",
       "      <th>3</th>\n",
       "      <td>0</td>\n",
       "      <td>2</td>\n",
       "      <td>4</td>\n",
       "      <td>1</td>\n",
       "      <td>1.0</td>\n",
       "      <td>1513</td>\n",
       "    </tr>\n",
       "    <tr>\n",
       "      <th>4</th>\n",
       "      <td>0</td>\n",
       "      <td>2</td>\n",
       "      <td>5</td>\n",
       "      <td>1</td>\n",
       "      <td>1.0</td>\n",
       "      <td>1514</td>\n",
       "    </tr>\n",
       "  </tbody>\n",
       "</table>\n",
       "</div>"
      ]
     },
     "execution_count": 4,
     "metadata": {},
     "output_type": "execute_result"
    }
   ],
   "execution_count": 4
  },
  {
   "cell_type": "markdown",
   "id": "5f219589656a8f8c",
   "metadata": {},
   "source": [
    "# Model\n",
    "\n",
    "The model is programmed in the `amro` library. It uses `C++` functions to fastly compute in parallel realizations of the model with different parameters.  You can access the `help` for a description of all of the included functions:\n"
   ]
  },
  {
   "cell_type": "code",
   "id": "825e230668a14639",
   "metadata": {
    "ExecuteTime": {
     "end_time": "2025-03-25T20:56:15.882373Z",
     "start_time": "2025-03-25T20:56:15.878100Z"
    }
   },
   "source": [
    "help(amro)"
   ],
   "outputs": [
    {
     "name": "stdout",
     "output_type": "stream",
     "text": [
      "Help on module amro:\n",
      "\n",
      "NAME\n",
      "    amro - Module implementing a stochastic model of antimicrobial resistant organisms in a healthcare facility.\n",
      "\n",
      "FUNCTIONS\n",
      "    progress_patients_1_timestep(...) method of builtins.PyCapsule instance\n",
      "        progress_patients_1_timestep(ward_matrix: Numpy.ndarray[numpy.float64] = 1, total_patients_per_ward: Numpy.ndarray[numpy.float64] = 2, parameters: Numpy.ndarray[numpy.float64] = 3, n_sims: int = 4, time_to_detect: int = 5, detect_today_hospitalized: bool = 6, detect_today_arrival: bool = 7) -> Numpy.ndarray[numpy.float64]\n",
      "        \n",
      "        \n",
      "        @title Progress patients across all wards\n",
      "        \n",
      "        @description Progresses all the patients across all wards one timestep. Consider\n",
      "        a group of individuals in the same ward. Let `C_i(t)` denote whether individual `i` is colonized\n",
      "        `C_i(t) = 1` or not colonized `C_i(t) = 0` at time `t`. The probability of an individual being colonized\n",
      "        at time `t + 1` is given by:\n",
      "        \n",
      "            [(1 - detected)*(1 - alpha) + detected*(1 - alpha2)]*w_i + (1 - w_i)(beta / N)*sum(w_i * C_i) + gamma*h_i\n",
      "        \n",
      "        Once an individual is colonized there is a certain probability that they will be detected. If the\n",
      "        individual is an imported colonized case they will be detected with probability `rho_imported` and\n",
      "        if they are a colonized case that was already hospitalized they will be detected with probability\n",
      "        `rho_hospital`.\n",
      "        \n",
      "        Furthermore  if they are detected then alpha can be substituted by alpha2 with alpha2 being a different\n",
      "        clearance probability.\n",
      "        \n",
      "        @param ward_matrix  A `ward_matrix` corresponding to the state of the ward at time $t$. The matrix should\n",
      "        include the following columns:\n",
      "        \n",
      "        Column 1: Unique identifier for the ward.\n",
      "        Column 2: Key that indicates where in the total_patients_per_ward matrix the ward identified in column 1 is.\n",
      "        Column 3: Indicator for new arrivals (= 1) and individuals that were already here (= 0)\n",
      "        Column 4: Weight w_i of the individual in the ward.\n",
      "        Column 5: For this function it can be anything; however see `simulate_discrete_model_internal_one`.\n",
      "        Column 6 to `n_sims + 5`: Each of these columns correspond to a different simulation with 1's and 0's. Values\n",
      "        equal to 1 correspond to colonized cases and 0's correspond to not colonized individuals.\n",
      "        Column `n_sims + 6` to last column: Each of these columns correspond to a different simulation with 1's and 0's. Values\n",
      "        equal to 1 correspond to colonized cases THAT WERE DETECTED and 0's correspond to UNDETECTED individuals\n",
      "        (either not colonized or colonized but not detected)\n",
      "        \n",
      "        @param total_patients_per_ward A matrix with two columns:\n",
      "        \n",
      "        Column 1: The number of the ward (unique identifier).\n",
      "        Column 2: The number of patients in that ward.\n",
      "        \n",
      "        @param parameters A matrix with columns corresponding to the model's parameters.\n",
      "        \n",
      "        Column 0: `alpha` the clearance probability for the undetected.\n",
      "        Column 1: `beta` the force of infection.\n",
      "        Column 2: `gamma` probability of an imported case being colonized.\n",
      "        Column 3: `rho_hospital` the probability of being detected for a hospitalized case.\n",
      "        Column 4: `alpha_2` the clearance probability for the detected.\n",
      "        Column 5: `rho_imported` the probability of being detected for an imported case.\n",
      "        \n",
      "        @param n_sims Number of simulations currently involved in the process.\n",
      "        \n",
      "        @param time_to_detect Time (integer) it takes for a detected colonized to receive their results\n",
      "        \n",
      "        @param detect_today_hospitalized (boolean) Whether individuals that were hospitalized in the previous step\n",
      "        are tested in the current timestep or not.\n",
      "        \n",
      "        @param detect_today_arrival (boolean) Whether individuals that were imported in the step\n",
      "        are tested or not.\n",
      "        \n",
      "        @return A `ward_matrix` corresponding to the state of all the wards at time `t + 1`\n",
      "    \n",
      "    progress_patients_probability_ward_1_timestep(...) method of builtins.PyCapsule instance\n",
      "        progress_patients_probability_ward_1_timestep(ward_matrix: Numpy.ndarray[numpy.float64] = 1, total_patients: float = 2, parameters: Numpy.ndarray[numpy.float64] = 3, n_sims: int = 4, time_to_detect: int = 5, detect_today_hospitalized: bool = 6, detect_today_arrival: bool = 7) -> Numpy.ndarray[numpy.float64]\n",
      "        \n",
      "        \n",
      "        @title Progress patients across one ward\n",
      "        \n",
      "        @description Progresses the patients that belong to the same ward one timestep. Consider\n",
      "        a group of individuals in the same ward. Let `C_i(t)` denote whether individual `i` is colonized\n",
      "        `C_i(t) = 1` or not colonized `C_i(t) = 0` at time `t`. The probability of an individual being colonized\n",
      "        at time `t + 1` is given by:\n",
      "        \n",
      "             [(1 - detected)*(1 - alpha) + detected*(1 - alpha2)]*w_i + (1 - w_i)(beta / N)*sum(w_i * C_i) + gamma*h_i\n",
      "        \n",
      "        Once an individual is colonized there is a certain probability that they will be detected. If the\n",
      "        individual is an imported colonized case they will be detected with probability `rho_imported` and\n",
      "        if they are a colonized case that was already hospitalized they will be detected with probability\n",
      "        `rho_hospital`.\n",
      "        \n",
      "        Furthermore  if they are detected then alpha can be substituted by alpha2 with alpha2 being a different\n",
      "        clearance probability.\n",
      "        \n",
      "        @param ward_matrix  A `ward_matrix` corresponding to the state of the ward at time $t$. The matrix should\n",
      "        include the following columns:\n",
      "        \n",
      "        Column 0: For this function it can be anything; however see `progress_patients_1_timestep`.\n",
      "        Column 1: For this function it can be anything; however see `progress_patients_1_timestep`.\n",
      "        Column 2: Indicator for new arrivals (= 1) and individuals that were already here (= 0)\n",
      "        Column 3: Weight w_i of the individual in the ward.\n",
      "        Column 4: For this function it can be anything; however see `simulate_discrete_model_internal_one`.\n",
      "        Column 5 to `n_sims + 5`: Each of these columns correspond to a different simulation with 1's and 0's. Values\n",
      "        equal to 1 correspond to colonized cases and 0's correspond to not colonized individuals.\n",
      "        Column `n_sims + 6` to last column: Each of these columns correspond to a different simulation with 1's and 0's. Values\n",
      "        equal to 1 correspond to colonized cases THAT WERE DETECTED and 0's correspond to UNDETECTED individuals\n",
      "        (either not colonized or colonized but not detected)\n",
      "        \n",
      "        @param total_patients The total number of patients in the current ward at time `t` (current time).\n",
      "        \n",
      "        @param parameters A matrix with columns corresponding to the model's parameters.\n",
      "        \n",
      "        Column 0: `alpha` the clearance probability for the undetected.\n",
      "        Column 1: `beta` the force of infection.\n",
      "        Column 2: `gamma` probability of an imported case being colonized.\n",
      "        Column 3: `rho_hospital` the probability of being detected for a hospitalized case.\n",
      "        Column 4: `alpha_2` the clearance probability for the detected.\n",
      "        Column 5: `rho_imported` the probability of being detected for an imported case.\n",
      "        \n",
      "        @param n_sims Number of simulations currently involved in the process.\n",
      "        \n",
      "        @param time_to_detect Time (integer) it takes for a detected colonized to receive their results\n",
      "        \n",
      "        @param detect_today_hospitalized (boolean) Whether individuals that were hospitalized in the previous step\n",
      "        are tested in the current timestep or not.\n",
      "        \n",
      "        @param detect_today_arrival (boolean) Whether individuals that were imported in the step\n",
      "        are tested or not.\n",
      "        \n",
      "        @return A `ward_matrix` corresponding to the state of the ward at time `t + 1`\n",
      "    \n",
      "    simulate_and_collapse(...) method of builtins.PyCapsule instance\n",
      "        simulate_and_collapse(ward_matrix: Numpy.ndarray[numpy.float64], total_patients_per_ward: Numpy.ndarray[numpy.float64], initial_colonized_probability: float, initial_detected_probability: float, initial_patients: int, alpha: float, beta: float, gamma: float, rho_hospital: float, alpha2: float, rho_imported: float, n_sims: int = 100, time_to_detect: int, testing_schedule_hospitalized: int, testing_schedule_arrivals: int, seed: int = 2384235) -> Numpy.ndarray[numpy.float64]\n",
      "        \n",
      "        \n",
      "        @title Simulate and Collapse Model Results\n",
      "        \n",
      "        @description Runs multiple simulations of the ward transmission model and returns mean daily counts\n",
      "        of colonized and detected cases. This provides a summary view of model behavior.\n",
      "        \n",
      "        @param initial_colonized_probability Initial probability of colonization for all patients (0-1)\n",
      "        @param initial_detected_probability Initial probability of detection for colonized patients (0-1)\n",
      "        @param ward_matrix Matrix containing ward assignments and patient information\n",
      "        @param total_patients_per_ward Matrix with daily patient counts per ward\n",
      "        @param alpha Clearance probability for undetected cases (0-1)\n",
      "        @param beta Force of infection parameter (>0)\n",
      "        @param gamma Probability imported case is colonized (0-1)\n",
      "        @param rho_hospital Detection probability for hospital-acquired cases (0-1)\n",
      "        @param alpha2 Clearance probability for detected cases (0-1)\n",
      "        @param rho_imported Detection probability for imported cases (0-1)\n",
      "        @param n_sims Number of simulations to run (>0)\n",
      "        @param time_to_detect Days until detection result is available (≥0)\n",
      "        @param testing_schedule_hospitalized Testing interval for hospital patients (days)\n",
      "        @param testing_schedule_arrivals Testing interval for new arrivals (days)\n",
      "        @param seed Random seed for reproducibility\n",
      "        \n",
      "        @return Matrix with 3 columns:\n",
      "            - Column 0: Day number\n",
      "            - Column 1: Mean number of colonized cases\n",
      "            - Column 2: Mean number of detected cases\n",
      "    \n",
      "    simulate_discrete_model(...) method of builtins.PyCapsule instance\n",
      "        simulate_discrete_model(initial_colonized_probability: Numpy.ndarray[numpy.float64] = 1, initial_detected_probability: Numpy.ndarray[numpy.float64] = 2, ward_matrix: Numpy.ndarray[numpy.float64] = 3, total_patients_per_ward: Numpy.ndarray[numpy.float64] = 4, parameters: Numpy.ndarray[numpy.float64] = 5, time_to_detect: int = 6, testing_schedule_hospitalized: int = 7, testing_schedule_arrivals: int = 8, seed: int = 9) -> Numpy.ndarray[numpy.float64]\n",
      "        \n",
      "        \n",
      "        @title Simulate discrete model\n",
      "        \n",
      "        @description Simulates all the patients across all wards across all timesteps. Consider\n",
      "        a group of individuals in the same ward. Let `C_i(t)` denote whether individual `i` is colonized\n",
      "        `C_i(t) = 1` or not colonized `C_i(t) = 0` at time `t`. The probability of an individual being colonized\n",
      "        at time `t + 1` is given by:\n",
      "        \n",
      "             [(1 - detected)*(1 - alpha) + detected*(1 - alpha2)]*w_i + (1 - w_i)(beta / N)*sum(w_i * C_i) + gamma*h_i\n",
      "        \n",
      "        Once an individual is colonized there is a certain probability that they will be detected. If the\n",
      "        individual is an imported colonized case they will be detected with probability `rho_imported` and\n",
      "        if they are a colonized case that was already hospitalized they will be detected with probability\n",
      "        `rho_hospital`.\n",
      "        \n",
      "        Furthermore  if they are detected then alpha can be substituted by alpha2 with alpha2 being a different\n",
      "        clearance probability.\n",
      "        \n",
      "        @param initial_colonized_probability A matrix describing the initial state of the model. All simulations are run with the same\n",
      "        `initial_colonized_probability`.\n",
      "        \n",
      "        @param ward_matrix  A `ward_matrix` corresponding to the state of the ward at time $t$. The matrix should\n",
      "        include the following columns:\n",
      "        \n",
      "        Column 1: Unique identifier for the ward.\n",
      "        Column 2: Key that indicates where in the total_patients_per_ward matrix the ward identified in column 1 is.\n",
      "        Column 3: Indicator for new arrivals (= 1) and individuals that were already here (= 0)\n",
      "        Column 4: Weight w_i of the individual in the ward.\n",
      "        Column 5: Location (row) where the same patient appears in the dataset the following day.\n",
      "        Column 6 to Last column: Each of these columns correspond to a different simulation with 1's and 0's. Values\n",
      "        equal to 1 correspond to colonized cases and 0's correspond to not colonized individuals. You can add as many columns as your memory allows.\n",
      "        \n",
      "        @param total_patients_per_ward A matrix with columns:\n",
      "        \n",
      "        Column 0: The day of the observation.\n",
      "        Column 1: The number of the ward (unique identifier).\n",
      "        Column 2: The number of patients in that ward.\n",
      "        \n",
      "        @param parameters A matrix with columns corresponding to the model's parameters.\n",
      "        \n",
      "        Column 0: `alpha` the clearance probability for the undetected.\n",
      "        Column 1: `beta` the force of infection.\n",
      "        Column 2: `gamma` probability of an imported case being colonized.\n",
      "        Column 3: `rho_hospital` the probability of being detected for a hospitalized case.\n",
      "        Column 4: `alpha_2` the clearance probability for the detected.\n",
      "        Column 5: `rho_imported` the probability of being detected for an imported case.\n",
      "        \n",
      "        @param n_sims Number of simulations currently involved in the process.\n",
      "        \n",
      "        @param time_to_detect Time (integer) it takes for a detected colonized to receive their results\n",
      "        \n",
      "        @param testing_schedule_hospitalized (integer) Time it takes to test. Hospitalized individuals are only tested\n",
      "        every `testing_schedule` days. For example if  `testing_schedule = 7` then individuals are tested every week\n",
      "        (7 days). To test individuals daily set `testing_schedule = 1`.\n",
      "        \n",
      "        @param testing_schedule_arrivals (integer) Time it takes to test. Newly arrived individuals are only tested\n",
      "        every `testing_schedule` days. For example if  `testing_schedule = 7` then individuals are tested every week\n",
      "        (7 days). To test individuals daily set `testing_schedule = 1`.\n",
      "        \n",
      "        @param seed Random seed for `arma_rng`.\n",
      "        \n",
      "        @return A `ward_matrix` corresponding to the state of all the wards at time `t + 1`\n",
      "    \n",
      "    summary_of_total_positive(...) method of builtins.PyCapsule instance\n",
      "        summary_of_total_positive(model_colonized: Numpy.ndarray[numpy.float64] = 1, quantiles: Numpy.ndarray[numpy.float64] = 2) -> Numpy.ndarray[numpy.float64]\n",
      "        \n",
      "        \n",
      "        @title Summarize daily number of colonized across all simulations\n",
      "        \n",
      "        @description Given a simulation created with `simulate_discrete` this function obtains the quantiles\n",
      "        specified in `quantiles`\n",
      "        \n",
      "        @param model_colonized A matrix obtained from a `simulate_discrete_model` object\n",
      "        @param quantiles A vector of the quantiles to calculate for the summary.\n",
      "        \n",
      "        @return A matrix with the following columns:\n",
      "        Column 0: The day (each row is a day and this is the day number).\n",
      "        Column 1: The mean number of cases.\n",
      "        Column 2: The standard deviation on the number of cases.\n",
      "        Column 3 to Last: Any quantiles specified in the quantiles parameter.\n",
      "    \n",
      "    total_positive_colonized(...) method of builtins.PyCapsule instance\n",
      "        total_positive_colonized(model_colonized: Numpy.ndarray[numpy.float64] = 1, n_sims: int = 2) -> Numpy.ndarray[numpy.float64]\n",
      "        \n",
      "        \n",
      "        @title Obtain daily number of colonized\n",
      "        \n",
      "        @description Given a simulation created with `simulate_discrete` this function obtains the total number of\n",
      "        colonized cases per simulation and per day.\n",
      "        \n",
      "        @param model_colonized A matrix obtained from a `simulate_discrete_model` object\n",
      "        \n",
      "        @return A matrix with days being each rows and columns being the number of simulations. Each\n",
      "        matrix entry corresponds to the total number of colonized cases in that day/simulation.\n",
      "    \n",
      "    total_positive_detected(...) method of builtins.PyCapsule instance\n",
      "        total_positive_detected(model_colonized: Numpy.ndarray[numpy.float64] = 1, n_sims: int = 2) -> Numpy.ndarray[numpy.float64]\n",
      "        \n",
      "        \n",
      "        @title Obtain daily number of detected\n",
      "        \n",
      "        @description Given a simulation created with `simulate_discrete` this function obtains the total number of\n",
      "        colonized cases per simulation and per day.\n",
      "        \n",
      "        @param model_colonized A matrix obtained from a `simulate_discrete_model` object\n",
      "        \n",
      "        @return A matrix with days being each rows and columns being the number of simulations. Each\n",
      "        matrix entry corresponds to the total number of colonized cases in that day/simulation.\n",
      "\n",
      "VERSION\n",
      "    0.2.2\n",
      "\n",
      "FILE\n",
      "    /Users/rodrigozepedatello/Documents/ABM_AMRO/amro.cpython-311-darwin.so\n",
      "\n",
      "\n"
     ]
    }
   ],
   "execution_count": 5
  },
  {
   "cell_type": "markdown",
   "id": "0e0f7833",
   "metadata": {},
   "source": [
    "## Equations\n",
    "\n",
    "In this section we discuss the model's equations. In particular we start with a simplified model that doesn't consider the possibility of importing cases and then we move to the model with importation. \n",
    "\n",
    "### Simplified model without imported cases\n",
    "The model is defined for an individual $i$ with colonization status $C_{i,d} \\in \\{ 0, 1\\}$ at day $d$. For an individual that was already in the hospital, the probability of an individual being colonized at day $d$ considering their colonization status at day $d-1$ is given by:\n",
    "\\begin{equation}\n",
    "\\begin{aligned}\n",
    "    \\mathbb{P}\\big( C_{i,d} & = c_{i,d} | C_{i,d-1} = c_{i,d-1}\\big) = \\underbrace{\\big(1 - \\alpha(\\delta_{i,d-1})\\big) \\cdot c_{i,d} \\cdot c_{i,d-1} }_{T_{1 \\to 1}} + \\underbrace{\\alpha(\\delta_{i,d-1})  \\cdot (1 - c_{i,d}) \\cdot  c_{i,d-1} }_{T_{1 \\to 0}} + \\underbrace{\\frac{\\beta}{N_{w_i}^d} c_{i,d}(1 -  c_{i,d-1})  \\cdot \\sum\\limits_{j\\in w_i^{d}} c_{j,d-1}}_{T_{0 \\to 1}} + \\underbrace{(1 -  c_{i,d})(1 -  c_{i,d-1})  \\cdot \\bigg(1 - \\frac{\\beta}{N_{w_i}^d} \\sum\\limits_{j\\in w_i^{d}} c_{j,d-1}\\bigg)}_{T_{0 \\to 0}}\n",
    "\\end{aligned}\n",
    "\\end{equation}\n",
    "where $N_{w_i}^d$ and $c_{i,d} \\in \\left\\{0,1\\right\\}$ are known constants, $\\alpha, \\beta$ represent the model's parameters. \n",
    "\n",
    "The variables represent the following:\n",
    "* $c_{i,d}$ Colonized status of patient $i$ at day $d$ (either $0$ for not colonized or $1$ for colonized)\n",
    "* $N_{w_i}^d$ Size (number of patients) of the ward where patient $i$ is hospitalized at day $d$. Sizes can be fractional: if a patient was in multiple wards in one day their contribution to each ward is proportional to the number of wards (say if a patient was in two wards they add $0.5$ to each).  \n",
    "* $\\beta$ Transmission rate of the colonization such that  $\\beta/N_{w_i}^d$ is the probability of being colonized at day $d$. \n",
    "* $\\delta_{i,d-1}$ Indicator variable of whether the colonization status of patient $i$ at day $d$ was detected (either $0$ for not detected or $1$ for detected). Only colonized individuals can be detected and the probability of detection is given by $\\rho$. The probability of being detected is therefore:\n",
    " \\begin{equation}\n",
    "\\begin{aligned}\n",
    "    \\mathbb{P}\\big( \\Delta_{i,d} & = \\delta_{i,d} | \\Delta_{i,d-1} = \\delta_{i,d-1}\\big) = \\rho \\cdot c_{i,d-1} \\cdot (1 - \\delta_{i,d-1}) + c_{i,d-1} \\cdot \\delta_{i,d-1}\n",
    "\\end{aligned}\n",
    "\\end{equation}\n",
    "where $\\Delta_{i,d}$ denotes the random detection status of individual $i$ at day $d$. \n",
    "* $\\alpha(\\delta_{i,d-1})$ Decolonization probability. An colonized individual can become decolonized with probability $\\alpha$ that depends on whether the individual was detected or not:\n",
    "\\begin{equation}\n",
    "    \\alpha(\\delta_{i,d-1}) = \\begin{cases}\n",
    "  \\alpha_1 & \\textrm{ if } \\delta_{i,d-1} = 0, \\\\\n",
    "  \\alpha_2 & \\textrm{ if } \\delta_{i,d-1} = 1.\n",
    "    \\end{cases}\n",
    "\\end{equation}\n",
    "\n",
    "### Complete model with imported cases\n",
    "The model with importation can be written as:\n",
    "\\begin{equation}\n",
    "    \\mathbb{P}\\left( C_{i,d} = c_{i,d} | C_{i,d-1} = c_{i,d-1}\\right) = ( T_{1\\to 1} + T_{0\\to 0} + T_{1 \\to 0} + T_{0\\to 1} ) (1 - h_{i,d}) + \\big[ \\gamma \\cdot  c_{i,d} + (1 - \\gamma) \\cdot (1 - c_{i,d})\\big] h_{i,d}\n",
    "\\end{equation}\n",
    "where $h_{i,d}$ is a known constant with values in $\\left\\{0,1\\right\\}$ and $\\gamma$ is a parameter. \n",
    "\n",
    "The variables represent the following:\n",
    "* The value $h_{i,d} = 1$ represents that the patient has just arrived into the healthcare facility while $h_{i,d} = 0$ represents the patient having already been in the facility at day $d - 1$. \n",
    "* $\\gamma$ represents the probability that a newly arrived patient is already colonized (was colonized outside the healthcare facility). \n",
    "\n",
    "In this scenario the detection probability is different according to whether it was an imported case (detection for imported $\\rho_{imp}$ or it was an already hospitalized case $\\rho_{hosp}$ and is given by:\n",
    "\n",
    " \\begin{equation}\n",
    "\\begin{aligned}\n",
    "    \\mathbb{P}\\big( \\Delta_{i,d} & = \\delta_{i,d} | \\Delta_{i,d-1} = \\delta_{i,d-1}\\big) = \\big[\\rho_{hosp} \\cdot c_{i,d-1} \\cdot (1 - \\delta_{i,d-1}) + c_{i,d-1} \\cdot \\delta_{i,d-1}\\big] (1 - h_{i,d}) + \\big[\\rho_{imp} \\cdot c_{i,d-1} \\cdot (1 - \\delta_{i,d-1}) + c_{i,d-1} \\cdot \\delta_{i,d-1}\\big] h_{i,d}\n",
    "\\end{aligned}\n",
    "\\end{equation}"
   ]
  },
  {
   "cell_type": "markdown",
   "id": "49a1f33c4d3d3c2d",
   "metadata": {},
   "source": [
    "## Running the algorithm\n",
    "The algorithm works with numpy arrays so we need to convert everything to array."
   ]
  },
  {
   "cell_type": "code",
   "id": "eb8d786bef837ab3",
   "metadata": {
    "ExecuteTime": {
     "end_time": "2025-03-25T20:56:16.052460Z",
     "start_time": "2025-03-25T20:56:15.883535Z"
    }
   },
   "source": [
    "#Convert the total patients\n",
    "total_patients_per_ward = np.array(total_patients_per_ward)\n",
    "\n",
    "#Get the initial patients to start the algorithm\n",
    "initial_patients = ward_matrix[ward_matrix[\"day\"] == 0].shape[0]\n",
    "\n",
    "#Convert the rest of the patients\n",
    "ward_matrix = np.array(ward_matrix)"
   ],
   "outputs": [],
   "execution_count": 6
  },
  {
   "cell_type": "markdown",
   "id": "527b4fdb62005477",
   "metadata": {},
   "source": [
    "Create a simulation with 100 parameters"
   ]
  },
  {
   "cell_type": "code",
   "id": "afda331165ea5aae",
   "metadata": {
    "ExecuteTime": {
     "end_time": "2025-03-25T20:56:40.570718Z",
     "start_time": "2025-03-25T20:56:16.054764Z"
    }
   },
   "source": [
    "#Set a seed for the numpy simulations\n",
    "np.random.seed(47935)\n",
    "\n",
    "#Assign a c++ seed\n",
    "cpp_seed = np.random.randint(np.iinfo(np.int32).max)\n",
    "\n",
    "#Create 100 simulations and run them in ~ 20 seconds\n",
    "num_simulations = 100\n",
    "\n",
    "#Initial colonized values represent the probability that each patient starts up colonized\n",
    "colonized_day_0 = 0.2*np.ones(shape = (initial_patients, num_simulations))\n",
    "\n",
    "#Initial detected values represent the probability that if a patient is colonized they will be detected\n",
    "detected_day_0 = 0.2*np.ones(shape = (initial_patients, num_simulations))\n",
    "\n",
    "#Create the parameter matrix, In this case we simulate t\n",
    "parameters = np.array([\n",
    "                    np.random.uniform(0.15, 0.15, num_simulations),  #Alpha (probability of clearance under normal conditions)\n",
    "                    np.random.uniform(0.55, 0.55, num_simulations),  #Beta  (force of infection)\n",
    "                    np.random.uniform(0.05, 0.05, num_simulations),  #Gamma (probability of infected among the imported)\n",
    "                    np.random.uniform(0.6, 0.6, num_simulations),  #Rho hospitalized  (detection % for in hospital cases)\n",
    "                    np.random.uniform(0.35, 0.35, num_simulations),  #Alpha2 (probability of clearance if detected)\n",
    "                    np.random.uniform(0.9, 0.9, num_simulations),  #Rho imported  (detection % for imported cases)\n",
    "                    ]).transpose()\n",
    "\n",
    "#Additional covariates related to time\n",
    "delay_test_results = 2             # You have to wait 2 days till the test result comes\n",
    "testing_schedule_hospitalized = 7  # Test hospitalized individuals only every 7 days (weekly)\n",
    "testing_schedule_arrivals = 1      # Test for imported individuals every 1 day (daily) \n",
    "\n",
    "#Run 100 simulations with the same initial state just different parameters. \n",
    "simulations_100 = amro.simulate_discrete_model(\n",
    "    colonized_day_0, detected_day_0, ward_matrix.copy(), total_patients_per_ward.copy(), \n",
    "    parameters, delay_test_results, testing_schedule_hospitalized, testing_schedule_arrivals, \n",
    "    cpp_seed)"
   ],
   "outputs": [],
   "execution_count": 7
  },
  {
   "metadata": {},
   "cell_type": "markdown",
   "source": "This is what the result from the simulations looks like",
   "id": "97bef339375ad343"
  },
  {
   "metadata": {
    "ExecuteTime": {
     "end_time": "2025-03-25T20:56:40.576387Z",
     "start_time": "2025-03-25T20:56:40.572243Z"
    }
   },
   "cell_type": "code",
   "source": [
    "#Result is a matrix with as many rows as `ward_matrix` and each column is a simulation starting from column 6 and onwards until reaching number of simulations - 1. From number of simulations to the end of the matrix each column is a simulation and each row is 0 if detected, negative numbers are never detected and positive numbers indicate the days remaining until the individual is detected\n",
    "simulations_100"
   ],
   "id": "3303a1f2a99c9209",
   "outputs": [
    {
     "data": {
      "text/plain": [
       "array([[ 0.00000e+00,  1.00000e+00,  1.00000e+00, ...,          inf,\n",
       "        -1.00000e+00,          inf],\n",
       "       [ 0.00000e+00,  1.00000e+00,  2.00000e+00, ...,          inf,\n",
       "        -1.00000e+00, -1.00000e+00],\n",
       "       [ 0.00000e+00,  1.00000e+00,  3.00000e+00, ...,          inf,\n",
       "        -1.00000e+00, -1.00000e+00],\n",
       "       ...,\n",
       "       [ 1.39800e+03,  2.01000e+02,  2.78520e+05, ...,          inf,\n",
       "                 inf,          inf],\n",
       "       [ 1.39800e+03,  2.07000e+02,  2.78521e+05, ...,          inf,\n",
       "                 inf,          inf],\n",
       "       [ 1.39800e+03,  2.71000e+02,  2.78522e+05, ...,          inf,\n",
       "                 inf,          inf]])"
      ]
     },
     "execution_count": 8,
     "metadata": {},
     "output_type": "execute_result"
    }
   ],
   "execution_count": 8
  },
  {
   "metadata": {},
   "cell_type": "markdown",
   "source": "You can get the total number of colonized or detected by simulation ",
   "id": "7b6d9c63c7db7c9c"
  },
  {
   "cell_type": "code",
   "id": "152de5250c353f06",
   "metadata": {
    "jupyter": {
     "is_executing": true
    },
    "ExecuteTime": {
     "start_time": "2025-03-25T20:56:40.577658Z"
    }
   },
   "source": [
    "#We can aggregate the results first by getting the number of total positives per simulation per day \n",
    "#(either colonized or detected)\n",
    "colonized_sims = amro.total_positive_colonized(simulations_100.copy(), n_sims=num_simulations)\n",
    "\n",
    "#And the total number of detected per simulation per day\n",
    "detected_sims = amro.total_positive_detected(simulations_100.copy(), n_sims=num_simulations)"
   ],
   "outputs": [],
   "execution_count": null
  },
  {
   "metadata": {
    "jupyter": {
     "is_executing": true
    }
   },
   "cell_type": "code",
   "source": [
    "#And using either the detected or the colonized get the mean and quantiles e can aggregate the results with the `summary_of_total_positive` function and obtain quantiles\n",
    "summary_colonized = amro.summary_of_total_positive(colonized_sims.copy(), quantiles=np.array([0.05, 0.95]))\n",
    "summary_detected  = amro.summary_of_total_positive(detected_sims.copy(), quantiles=np.array([0.05, 0.95]))"
   ],
   "id": "d0aa129d2bd745f6",
   "outputs": [],
   "execution_count": null
  },
  {
   "metadata": {
    "jupyter": {
     "is_executing": true
    }
   },
   "cell_type": "code",
   "source": [
    "# Define custom colors\n",
    "colonized_color = \"#bc5090\"  # Blue (or any other hex color you like)\n",
    "detected_color = \"#ffa600\"   # Orange (or any other hex color you prefer)\n",
    "\n",
    "# Create a single plot\n",
    "fig, ax = plt.subplots(figsize=(10, 6))\n",
    "\n",
    "# Plot colonized \n",
    "sns.lineplot(x=summary_colonized[:, 0], y=summary_colonized[:, 1], \n",
    "             linewidth=0.5, color=colonized_color, label='Colonized', ax=ax)\n",
    "ax.fill_between(summary_colonized[:, 0], summary_colonized[:, 3], summary_colonized[:, 4], \n",
    "                alpha=0.1, color=colonized_color)\n",
    "\n",
    "# Plot detected \n",
    "sns.lineplot(x=summary_detected[:, 0], y=summary_detected[:, 1], \n",
    "             linewidth=0.5, color=detected_color, label='Detected', ax=ax)\n",
    "ax.fill_between(summary_detected[:, 0], summary_detected[:, 3], summary_detected[:, 4], \n",
    "                alpha=0.1, color=detected_color)\n",
    "\n",
    "# Set title and labels\n",
    "ax.set_title('Results from 100 simulations', fontsize=20)\n",
    "ax.set_xlabel('Day', fontsize=14)\n",
    "ax.set_ylabel('Total number of positive cases', fontsize=14)\n",
    "\n",
    "# Add legend\n",
    "ax.legend(title='Category', fontsize=12, title_fontsize=14)\n",
    "\n",
    "# Display the plot\n",
    "plt.show()"
   ],
   "id": "b11430b631d8f8ee",
   "outputs": [],
   "execution_count": null
  },
  {
   "metadata": {},
   "cell_type": "markdown",
   "source": "For optimization a faster way is to implement the `simulate_and_collapse` function which only calculates the mean of simulations and doesn't have to go through Python multiple times as the step by step functions\n",
   "id": "5a43c71bcbdef21c"
  },
  {
   "metadata": {
    "jupyter": {
     "is_executing": true
    }
   },
   "cell_type": "code",
   "source": [
    "#Run the model\n",
    "mean_sims = amro.simulate_and_collapse(ward_matrix=ward_matrix.copy(),\n",
    "                                       total_patients_per_ward=total_patients_per_ward.copy(),\n",
    "                                       initial_colonized_probability=0.2, \n",
    "                                       initial_detected_probability=0.2,\n",
    "                                       initial_patients=initial_patients,\n",
    "                                       alpha=0.15,\n",
    "                                       beta=0.55,\n",
    "                                       gamma=0.05,\n",
    "                                       rho_hospital=0.6,\n",
    "                                       alpha2=0.35,\n",
    "                                       rho_imported=0.9,\n",
    "                                       n_sims=num_simulations,\n",
    "                                       time_to_detect=2,\n",
    "                                       testing_schedule_hospitalized=7,\n",
    "                                       testing_schedule_arrivals=1,\n",
    "                                       seed=cpp_seed)"
   ],
   "id": "7c1638d4fde3afe8",
   "outputs": [],
   "execution_count": null
  },
  {
   "metadata": {
    "jupyter": {
     "is_executing": true
    }
   },
   "cell_type": "code",
   "source": [
    "# Create a single plot\n",
    "fig, ax = plt.subplots(figsize=(10, 6))\n",
    "\n",
    "# Plot colonized \n",
    "sns.lineplot(x=mean_sims[:, 0], y=mean_sims[:, 1], \n",
    "             linewidth=0.5, color=colonized_color, label='Colonized', ax=ax)\n",
    "\n",
    "# Plot detected \n",
    "sns.lineplot(x=mean_sims[:, 0], y=mean_sims[:, 2], \n",
    "             linewidth=0.5, color=detected_color, label='Detected', ax=ax)\n",
    "\n",
    "# Set title and labels\n",
    "ax.set_title('Results from 100 simulations', fontsize=20)\n",
    "ax.set_xlabel('Day', fontsize=14)\n",
    "ax.set_ylabel('Total number of positive cases', fontsize=14)\n",
    "\n",
    "# Add legend\n",
    "ax.legend(title='Category', fontsize=12, title_fontsize=14)\n",
    "\n",
    "# Display the plot\n",
    "plt.show()"
   ],
   "id": "9977ee500d8f9a58",
   "outputs": [],
   "execution_count": null
  }
 ],
 "metadata": {
  "kernelspec": {
   "display_name": "Python 3 (ipykernel)",
   "language": "python",
   "name": "python3"
  },
  "language_info": {
   "codemirror_mode": {
    "name": "ipython",
    "version": 3
   },
   "file_extension": ".py",
   "mimetype": "text/x-python",
   "name": "python",
   "nbconvert_exporter": "python",
   "pygments_lexer": "ipython3",
   "version": "3.11.9"
  }
 },
 "nbformat": 4,
 "nbformat_minor": 5
}
