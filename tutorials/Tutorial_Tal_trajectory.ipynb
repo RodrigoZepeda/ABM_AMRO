{
 "cells": [
  {
   "cell_type": "markdown",
   "id": "104d6715-e289-4b11-939a-9bb6ffd91eb6",
   "metadata": {},
   "source": [
    "# Tutorial on running Tal's model"
   ]
  },
  {
   "cell_type": "code",
   "execution_count": 2,
   "id": "372e0c4d-a68d-4e70-be83-7c84446803ed",
   "metadata": {
    "tags": []
   },
   "outputs": [],
   "source": [
    "import pickle\n",
    "import os\n",
    "\n",
    "from progress_patients import * #This one is our file open it to see the functions as they are constructed"
   ]
  },
  {
   "cell_type": "markdown",
   "id": "200ec9b1-d18a-4487-af86-c8835d01244a",
   "metadata": {},
   "source": [
    "### Data transformation\n",
    "\n",
    "In this section we transform the data as used by Tal's model to a 3 dimensional array required for this model"
   ]
  },
  {
   "cell_type": "code",
   "execution_count": 3,
   "id": "38fa98e8-34aa-49ee-99a9-432f5d4cf69c",
   "metadata": {
    "tags": []
   },
   "outputs": [],
   "source": [
    "# Set seed\n",
    "np.random.seed(seed=2487523)\n",
    "\n",
    "# Hyperparameter setup.\n",
    "with open(os.path.join(\"data\", \"NY_network_1.pickle\"), \"rb\") as file:\n",
    "    network = pickle.load(file)"
   ]
  },
  {
   "cell_type": "code",
   "execution_count": 4,
   "id": "0764ed53-8c46-4b51-9e6f-c68ce368a010",
   "metadata": {
    "tags": []
   },
   "outputs": [],
   "source": [
    "wards = []\n",
    "patients = []\n",
    "days = network[\"Days\"]\n",
    "\n",
    "for t in range(len(days)):\n",
    "    # Get temporary ward\n",
    "    temp_ward = network[\"Days\"][t][\"Wards\"]\n",
    "    temp_ward[\"day\"] = t\n",
    "    wards.append(temp_ward)\n",
    "\n",
    "    # Get temporary patient\n",
    "    temp_patient = network[\"Days\"][t][\"Patients\"]\n",
    "    temp_patient[\"day\"] = t\n",
    "    patients.append(temp_patient)\n",
    "\n",
    "# Get the data frame of wards and of patients\n",
    "wards_df = pd.concat(wards)\n",
    "patients_df = pd.concat(patients)\n",
    "\n",
    "# Change consecutive numbers to positions\n",
    "patients_df.MRN = patients_df.MRN - 1"
   ]
  },
  {
   "cell_type": "markdown",
   "id": "aa538b4b-f6bf-425a-8c12-42b0d5329d33",
   "metadata": {
    "tags": []
   },
   "source": [
    "Create the total patients per ward variable"
   ]
  },
  {
   "cell_type": "code",
   "execution_count": 5,
   "id": "35b76b78-c4de-4706-ae49-c8e47f2c86a4",
   "metadata": {
    "tags": []
   },
   "outputs": [],
   "source": [
    "# Create unique list of ward days. Move then to pandas and join the current observed values (counts)\n",
    "# finally, set size to 0 if no one was there\n",
    "ward_day = np.array([(x, y) for x in wards_df.ward.unique() for y in wards_df.day.unique()])\n",
    "ward_day = pd.DataFrame(data=ward_day, columns=[\"ward\", \"day\"])\n",
    "\n",
    "# FIXME be careful with merging int and float here\n",
    "wards = ward_day.merge(wards_df, on=[\"ward\", \"day\"], how='left')\n",
    "wards = wards[[\"day\", \"Size\", \"ward\"]]\n",
    "wards.loc[wards.ward == np.inf, \"Size\"] = np.inf\n",
    "wards[\"Size\"] = wards[\"Size\"].fillna(0)\n",
    "\n",
    "total_patients_per_ward = wards.to_numpy(copy=True)"
   ]
  },
  {
   "cell_type": "markdown",
   "id": "d3b6f1e2-25e7-4d74-9b8a-3461959ccfdc",
   "metadata": {},
   "source": [
    "Create the wards to which each patient belongs"
   ]
  },
  {
   "cell_type": "code",
   "execution_count": 6,
   "id": "74f1638d-1847-43d8-a7d7-6e5dcc9cb9e0",
   "metadata": {
    "tags": []
   },
   "outputs": [],
   "source": [
    "# Create the wards matrix stating to which person belongs\n",
    "num_patients = len(patients_df.MRN.unique())\n",
    "num_days = np.max(patients_df.day.unique())\n",
    "wards = np.inf * np.ones(shape=(num_days, num_patients))\n",
    "\n",
    "for t in range(num_days):\n",
    "    sub_df = patients_df[patients_df.day == t]\n",
    "    wards[t, sub_df.MRN] = sub_df.ward"
   ]
  },
  {
   "cell_type": "markdown",
   "id": "bef264b4-9abb-40f5-9d12-d62008fcdae5",
   "metadata": {},
   "source": [
    "Create the new arrival matrix"
   ]
  },
  {
   "cell_type": "code",
   "execution_count": 7,
   "id": "14144694-feea-4614-a2c8-0074e8af1505",
   "metadata": {
    "tags": []
   },
   "outputs": [],
   "source": [
    "# Create the new arrivals matrix\n",
    "new_arrivals = np.zeros(shape=(num_days, num_patients))\n",
    "unique_patients = patients_df.MRN.unique()\n",
    "\n",
    "previous_mrn = pd.Series()\n",
    "for day in range(num_days):\n",
    "    # Get day's dataframe\n",
    "    sub_df = patients_df[patients_df.day == day]\n",
    "    new_pats = ~sub_df.MRN.isin(previous_mrn)  # Patients not in previous day\n",
    "    previous_mrn = sub_df.MRN.copy(deep=True)\n",
    "    new_arrivals[day, sub_df.MRN[new_pats]] = 1"
   ]
  },
  {
   "cell_type": "markdown",
   "id": "81a343cb-3f1a-41f4-ad44-20c71005aff8",
   "metadata": {
    "tags": []
   },
   "source": [
    "Set the parameters to test"
   ]
  },
  {
   "cell_type": "code",
   "execution_count": 8,
   "id": "be704f41-1fc3-4451-b745-056ed0ecbf8a",
   "metadata": {
    "tags": []
   },
   "outputs": [],
   "source": [
    "#PARAMETERS\n",
    "#----------------------------------------------------------------\n",
    "#Create the parameters\n",
    "parameters = numba.typed.Dict()  \n",
    "parameters[\"alpha\"] = np.linspace(0.5, 0.7, 25)\n",
    "parameters[\"beta\"] = np.linspace(0.5, 0.7, 25)\n",
    "parameters[\"gamma\"] = np.linspace(0.5, 0.7, 25)"
   ]
  },
  {
   "cell_type": "markdown",
   "id": "084af83f-71a5-4926-92fe-59f23ee459dc",
   "metadata": {},
   "source": [
    "Get random initial values"
   ]
  },
  {
   "cell_type": "code",
   "execution_count": 9,
   "id": "9c3146b4-2be7-47d0-8065-d249bc1942ad",
   "metadata": {
    "tags": []
   },
   "outputs": [],
   "source": [
    "#RUN MODEL\n",
    "initial_colonized = np.random.binomial(n=1,p=0.005,size=sum(new_arrivals[0,] > 0)) == 1\n",
    "initial_colonized = np.concatenate([initial_colonized, np.zeros(new_arrivals.shape[1] - sum(new_arrivals[0,] > 0))])\n",
    "initial_colonized = initial_colonized[:,np.newaxis]\n",
    "weights = np.tile(1, new_arrivals.shape)"
   ]
  },
  {
   "cell_type": "markdown",
   "id": "4691ca13-6f6b-40d1-8d8b-54ae1e905edd",
   "metadata": {},
   "source": [
    "Compile the model by running it in a small sample"
   ]
  },
  {
   "cell_type": "code",
   "execution_count": 10,
   "id": "3d2fd763-786f-4252-8bba-77f1e95f45d8",
   "metadata": {
    "tags": []
   },
   "outputs": [],
   "source": [
    "#Here we compile the discrete model. You only need to do it once and probably will change this\n",
    "#to a faster version next time\n",
    "model_simulation = simulate_discrete_model(initial_colonized, wards[1:2,:], total_patients_per_ward[1:2,:], parameters, 1,\n",
    "                                           new_arrivals[1:2,:], weights[1:2,:])"
   ]
  },
  {
   "cell_type": "markdown",
   "id": "1b1d4393-b558-4769-8b58-9cc362f3e9f9",
   "metadata": {},
   "source": [
    "### Running model\n",
    "Here we show how long does it take the model to run when conducting  different trajectories at the same time "
   ]
  },
  {
   "cell_type": "markdown",
   "id": "495a00f0-7f0f-4a8f-b97a-5977274b3343",
   "metadata": {},
   "source": [
    "First we run the model one time to get an idea of how long it will take to run 100 times"
   ]
  },
  {
   "cell_type": "code",
   "execution_count": 11,
   "id": "a9a3e29d-ded8-45a9-b014-45aa154bd218",
   "metadata": {
    "tags": []
   },
   "outputs": [
    {
     "ename": "SystemError",
     "evalue": "_PyEval_EvalFrameDefault returned a result with an error set",
     "output_type": "error",
     "traceback": [
      "\u001b[0;31m---------------------------------------------------------------------------\u001b[0m",
      "\u001b[0;31mValueError\u001b[0m                                Traceback (most recent call last)",
      "\u001b[0;31mValueError\u001b[0m: unable to broadcast argument 2 to output array\nFile \"/Users/rod/Library/CloudStorage/OneDrive-ColumbiaUniversityIrvingMedicalCenter/ABM/ABM_Identifiability_python/progress_patients.py\", line 1, ",
      "\nThe above exception was the direct cause of the following exception:\n",
      "\u001b[0;31mSystemError\u001b[0m                               Traceback (most recent call last)",
      "Cell \u001b[0;32mIn[11], line 1\u001b[0m\n\u001b[0;32m----> 1\u001b[0m \u001b[43mget_ipython\u001b[49m\u001b[43m(\u001b[49m\u001b[43m)\u001b[49m\u001b[38;5;241;43m.\u001b[39;49m\u001b[43mrun_line_magic\u001b[49m\u001b[43m(\u001b[49m\u001b[38;5;124;43m'\u001b[39;49m\u001b[38;5;124;43mtimeit\u001b[39;49m\u001b[38;5;124;43m'\u001b[39;49m\u001b[43m,\u001b[49m\u001b[43m \u001b[49m\u001b[38;5;124;43m'\u001b[39;49m\u001b[38;5;124;43m-n1 simulate_discrete_model(initial_colonized, wards, total_patients_per_ward, parameters, 1, new_arrivals, weights)\u001b[39;49m\u001b[38;5;124;43m'\u001b[39;49m\u001b[43m)\u001b[49m\n",
      "File \u001b[0;32m/usr/local/Caskroom/miniconda/base/envs/ABM_Identifiability_python/lib/python3.9/site-packages/IPython/core/interactiveshell.py:2417\u001b[0m, in \u001b[0;36mInteractiveShell.run_line_magic\u001b[0;34m(self, magic_name, line, _stack_depth)\u001b[0m\n\u001b[1;32m   2415\u001b[0m     kwargs[\u001b[38;5;124m'\u001b[39m\u001b[38;5;124mlocal_ns\u001b[39m\u001b[38;5;124m'\u001b[39m] \u001b[38;5;241m=\u001b[39m \u001b[38;5;28mself\u001b[39m\u001b[38;5;241m.\u001b[39mget_local_scope(stack_depth)\n\u001b[1;32m   2416\u001b[0m \u001b[38;5;28;01mwith\u001b[39;00m \u001b[38;5;28mself\u001b[39m\u001b[38;5;241m.\u001b[39mbuiltin_trap:\n\u001b[0;32m-> 2417\u001b[0m     result \u001b[38;5;241m=\u001b[39m \u001b[43mfn\u001b[49m\u001b[43m(\u001b[49m\u001b[38;5;241;43m*\u001b[39;49m\u001b[43margs\u001b[49m\u001b[43m,\u001b[49m\u001b[43m \u001b[49m\u001b[38;5;241;43m*\u001b[39;49m\u001b[38;5;241;43m*\u001b[39;49m\u001b[43mkwargs\u001b[49m\u001b[43m)\u001b[49m\n\u001b[1;32m   2419\u001b[0m \u001b[38;5;66;03m# The code below prevents the output from being displayed\u001b[39;00m\n\u001b[1;32m   2420\u001b[0m \u001b[38;5;66;03m# when using magics with decodator @output_can_be_silenced\u001b[39;00m\n\u001b[1;32m   2421\u001b[0m \u001b[38;5;66;03m# when the last Python token in the expression is a ';'.\u001b[39;00m\n\u001b[1;32m   2422\u001b[0m \u001b[38;5;28;01mif\u001b[39;00m \u001b[38;5;28mgetattr\u001b[39m(fn, magic\u001b[38;5;241m.\u001b[39mMAGIC_OUTPUT_CAN_BE_SILENCED, \u001b[38;5;28;01mFalse\u001b[39;00m):\n",
      "File \u001b[0;32m/usr/local/Caskroom/miniconda/base/envs/ABM_Identifiability_python/lib/python3.9/site-packages/IPython/core/magics/execution.py:1174\u001b[0m, in \u001b[0;36mExecutionMagics.timeit\u001b[0;34m(self, line, cell, local_ns)\u001b[0m\n\u001b[1;32m   1171\u001b[0m         \u001b[38;5;28;01mif\u001b[39;00m time_number \u001b[38;5;241m>\u001b[39m\u001b[38;5;241m=\u001b[39m \u001b[38;5;241m0.2\u001b[39m:\n\u001b[1;32m   1172\u001b[0m             \u001b[38;5;28;01mbreak\u001b[39;00m\n\u001b[0;32m-> 1174\u001b[0m all_runs \u001b[38;5;241m=\u001b[39m \u001b[43mtimer\u001b[49m\u001b[38;5;241;43m.\u001b[39;49m\u001b[43mrepeat\u001b[49m\u001b[43m(\u001b[49m\u001b[43mrepeat\u001b[49m\u001b[43m,\u001b[49m\u001b[43m \u001b[49m\u001b[43mnumber\u001b[49m\u001b[43m)\u001b[49m\n\u001b[1;32m   1175\u001b[0m best \u001b[38;5;241m=\u001b[39m \u001b[38;5;28mmin\u001b[39m(all_runs) \u001b[38;5;241m/\u001b[39m number\n\u001b[1;32m   1176\u001b[0m worst \u001b[38;5;241m=\u001b[39m \u001b[38;5;28mmax\u001b[39m(all_runs) \u001b[38;5;241m/\u001b[39m number\n",
      "File \u001b[0;32m/usr/local/Caskroom/miniconda/base/envs/ABM_Identifiability_python/lib/python3.9/timeit.py:205\u001b[0m, in \u001b[0;36mTimer.repeat\u001b[0;34m(self, repeat, number)\u001b[0m\n\u001b[1;32m    203\u001b[0m r \u001b[38;5;241m=\u001b[39m []\n\u001b[1;32m    204\u001b[0m \u001b[38;5;28;01mfor\u001b[39;00m i \u001b[38;5;129;01min\u001b[39;00m \u001b[38;5;28mrange\u001b[39m(repeat):\n\u001b[0;32m--> 205\u001b[0m     t \u001b[38;5;241m=\u001b[39m \u001b[38;5;28;43mself\u001b[39;49m\u001b[38;5;241;43m.\u001b[39;49m\u001b[43mtimeit\u001b[49m\u001b[43m(\u001b[49m\u001b[43mnumber\u001b[49m\u001b[43m)\u001b[49m\n\u001b[1;32m    206\u001b[0m     r\u001b[38;5;241m.\u001b[39mappend(t)\n\u001b[1;32m    207\u001b[0m \u001b[38;5;28;01mreturn\u001b[39;00m r\n",
      "File \u001b[0;32m/usr/local/Caskroom/miniconda/base/envs/ABM_Identifiability_python/lib/python3.9/site-packages/IPython/core/magics/execution.py:158\u001b[0m, in \u001b[0;36mTimer.timeit\u001b[0;34m(self, number)\u001b[0m\n\u001b[1;32m    156\u001b[0m gc\u001b[38;5;241m.\u001b[39mdisable()\n\u001b[1;32m    157\u001b[0m \u001b[38;5;28;01mtry\u001b[39;00m:\n\u001b[0;32m--> 158\u001b[0m     timing \u001b[38;5;241m=\u001b[39m \u001b[38;5;28;43mself\u001b[39;49m\u001b[38;5;241;43m.\u001b[39;49m\u001b[43minner\u001b[49m\u001b[43m(\u001b[49m\u001b[43mit\u001b[49m\u001b[43m,\u001b[49m\u001b[43m \u001b[49m\u001b[38;5;28;43mself\u001b[39;49m\u001b[38;5;241;43m.\u001b[39;49m\u001b[43mtimer\u001b[49m\u001b[43m)\u001b[49m\n\u001b[1;32m    159\u001b[0m \u001b[38;5;28;01mfinally\u001b[39;00m:\n\u001b[1;32m    160\u001b[0m     \u001b[38;5;28;01mif\u001b[39;00m gcold:\n",
      "File \u001b[0;32m<magic-timeit>:1\u001b[0m, in \u001b[0;36minner\u001b[0;34m(_it, _timer)\u001b[0m\n",
      "File \u001b[0;32m~/Library/CloudStorage/OneDrive-ColumbiaUniversityIrvingMedicalCenter/ABM/ABM_Identifiability_python/progress_patients.py:635\u001b[0m, in \u001b[0;36msimulate_discrete_model\u001b[0;34m(initial_colonized, wards, total_patients_per_ward, parameters, nsim, new_arrivals, weights, day_progression_function, ward_progression_function)\u001b[0m\n\u001b[1;32m    631\u001b[0m \u001b[38;5;28;01mif\u001b[39;00m initial_colonized\u001b[38;5;241m.\u001b[39mshape[\u001b[38;5;241m0\u001b[39m] \u001b[38;5;241m!=\u001b[39m new_arrivals\u001b[38;5;241m.\u001b[39mshape[\u001b[38;5;241m1\u001b[39m]:\n\u001b[1;32m    632\u001b[0m     \u001b[38;5;28;01mraise\u001b[39;00m \u001b[38;5;167;01mValueError\u001b[39;00m(\u001b[38;5;124mf\u001b[39m\u001b[38;5;124m\"\u001b[39m\u001b[38;5;124m`new_arrivals` has \u001b[39m\u001b[38;5;132;01m{\u001b[39;00mnew_arrivals\u001b[38;5;241m.\u001b[39mshape[\u001b[38;5;241m1\u001b[39m]\u001b[38;5;132;01m}\u001b[39;00m\u001b[38;5;124m individuals while\u001b[39m\u001b[38;5;124m\"\u001b[39m \u001b[38;5;241m+\u001b[39m\n\u001b[1;32m    633\u001b[0m                      \u001b[38;5;124mf\u001b[39m\u001b[38;5;124m\"\u001b[39m\u001b[38;5;124m `initial_colonized` only has \u001b[39m\u001b[38;5;132;01m{\u001b[39;00minitial_colonized\u001b[38;5;241m.\u001b[39mshape[\u001b[38;5;241m0\u001b[39m]\u001b[38;5;132;01m}\u001b[39;00m\u001b[38;5;124m.\u001b[39m\u001b[38;5;124m\"\u001b[39m)\n\u001b[0;32m--> 635\u001b[0m \u001b[38;5;28;01mreturn\u001b[39;00m \u001b[43msimulate_discrete_model_internal_multiple\u001b[49m\u001b[43m(\u001b[49m\u001b[43minitial_colonized\u001b[49m\u001b[38;5;241;43m=\u001b[39;49m\u001b[43minitial_colonized\u001b[49m\u001b[43m,\u001b[49m\u001b[43m \u001b[49m\u001b[43mwards\u001b[49m\u001b[38;5;241;43m=\u001b[39;49m\u001b[43mwards\u001b[49m\u001b[43m,\u001b[49m\n\u001b[1;32m    636\u001b[0m \u001b[43m                                                 \u001b[49m\u001b[43mnew_arrivals\u001b[49m\u001b[38;5;241;43m=\u001b[39;49m\u001b[43mnew_arrivals\u001b[49m\u001b[43m,\u001b[49m\u001b[43m \u001b[49m\u001b[43mweights\u001b[49m\u001b[38;5;241;43m=\u001b[39;49m\u001b[43mweights\u001b[49m\u001b[43m,\u001b[49m\n\u001b[1;32m    637\u001b[0m \u001b[43m                                                 \u001b[49m\u001b[43mtotal_patients_per_ward\u001b[49m\u001b[38;5;241;43m=\u001b[39;49m\u001b[43mtotal_patients_per_ward\u001b[49m\u001b[43m,\u001b[49m\n\u001b[1;32m    638\u001b[0m \u001b[43m                                                 \u001b[49m\u001b[43mparameters\u001b[49m\u001b[38;5;241;43m=\u001b[39;49m\u001b[43mparameters\u001b[49m\u001b[43m,\u001b[49m\n\u001b[1;32m    639\u001b[0m \u001b[43m                                                 \u001b[49m\u001b[43mday_progression_function\u001b[49m\u001b[38;5;241;43m=\u001b[39;49m\u001b[43mday_progression_function\u001b[49m\u001b[43m,\u001b[49m\n\u001b[1;32m    640\u001b[0m \u001b[43m                                                 \u001b[49m\u001b[43mward_progression_function\u001b[49m\u001b[38;5;241;43m=\u001b[39;49m\u001b[43mward_progression_function\u001b[49m\u001b[43m,\u001b[49m\u001b[43m \u001b[49m\u001b[43mnsim\u001b[49m\u001b[38;5;241;43m=\u001b[39;49m\u001b[43mnsim\u001b[49m\u001b[43m)\u001b[49m\n",
      "\u001b[0;31mSystemError\u001b[0m: _PyEval_EvalFrameDefault returned a result with an error set"
     ]
    }
   ],
   "source": [
    "%timeit -n1 simulate_discrete_model(initial_colonized, wards, total_patients_per_ward, parameters, 1, new_arrivals, weights)"
   ]
  },
  {
   "cell_type": "markdown",
   "id": "575872ad-e41b-4f35-80fa-1dd513834460",
   "metadata": {},
   "source": [
    "Then we run it 50 times: "
   ]
  },
  {
   "cell_type": "code",
   "execution_count": null,
   "id": "9e2f8945-d7ef-4886-8ac0-16502e53e86b",
   "metadata": {
    "tags": []
   },
   "outputs": [],
   "source": [
    "%timeit -n1 simulate_discrete_model(initial_colonized, wards, total_patients_per_ward, parameters, 50, new_arrivals, weights)"
   ]
  }
 ],
 "metadata": {
  "kernelspec": {
   "display_name": "Python 3 (ipykernel)",
   "language": "python",
   "name": "python3"
  },
  "language_info": {
   "codemirror_mode": {
    "name": "ipython",
    "version": 3
   },
   "file_extension": ".py",
   "mimetype": "text/x-python",
   "name": "python",
   "nbconvert_exporter": "python",
   "pygments_lexer": "ipython3",
   "version": "3.9.16"
  }
 },
 "nbformat": 4,
 "nbformat_minor": 5
}
