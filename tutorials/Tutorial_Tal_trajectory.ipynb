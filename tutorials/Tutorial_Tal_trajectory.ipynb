{
 "cells": [
  {
   "cell_type": "markdown",
   "id": "104d6715-e289-4b11-939a-9bb6ffd91eb6",
   "metadata": {},
   "source": [
    "# Tutorial on running model with Tal's data"
   ]
  },
  {
   "cell_type": "code",
   "execution_count": 1,
   "id": "372e0c4d-a68d-4e70-be83-7c84446803ed",
   "metadata": {
    "tags": []
   },
   "outputs": [
    {
     "name": "stdout",
     "output_type": "stream",
     "text": [
      "Collecting git+https://github.com/RodrigoZepeda/ABM_Identifiability_python\n",
      "  Cloning https://github.com/RodrigoZepeda/ABM_Identifiability_python to /private/var/folders/42/2kdf45dd1qz5n7kf9lm8ld9r0000gn/T/pip-req-build-oqqbz080\n",
      "  Running command git clone --filter=blob:none --quiet https://github.com/RodrigoZepeda/ABM_Identifiability_python /private/var/folders/42/2kdf45dd1qz5n7kf9lm8ld9r0000gn/T/pip-req-build-oqqbz080\n",
      "  Resolved https://github.com/RodrigoZepeda/ABM_Identifiability_python to commit 588cab6d3dfb948813ce890d8bd2cc785a432bf4\n",
      "  Installing build dependencies ... \u001b[?25ldone\n",
      "\u001b[?25h  Getting requirements to build wheel ... \u001b[?25ldone\n",
      "\u001b[?25h  Preparing metadata (pyproject.toml) ... \u001b[?25ldone\n",
      "\u001b[?25hBuilding wheels for collected packages: amro\n",
      "  Building wheel for amro (pyproject.toml) ... \u001b[?25ldone\n",
      "\u001b[?25h  Created wheel for amro: filename=amro-0.0.2-cp311-cp311-macosx_10_14_x86_64.whl size=99253 sha256=26759f768efcb19aea189d19e4c4ec45cbc7731dd705158f66d50340eb7ca463\n",
      "  Stored in directory: /private/var/folders/42/2kdf45dd1qz5n7kf9lm8ld9r0000gn/T/pip-ephem-wheel-cache-utjlahxa/wheels/ca/14/9b/8e39dba042c1df6246c3dde140e6cebc04d291ac9b8d4f687c\n",
      "Successfully built amro\n",
      "Installing collected packages: amro\n",
      "Successfully installed amro-0.0.2\n",
      "Note: you may need to restart the kernel to use updated packages.\n"
     ]
    }
   ],
   "source": [
    "#Install from github repository uncomment the following line\n",
    "#%pip install git+https://github.com/RodrigoZepeda/ABM_Identifiability_python"
   ]
  },
  {
   "cell_type": "code",
   "execution_count": 1,
   "id": "3f45f82a-8f10-4c27-bb9a-8ef5c8416d44",
   "metadata": {},
   "outputs": [],
   "source": [
    "import pandas as pd\n",
    "import numpy as np\n",
    "import amro "
   ]
  },
  {
   "cell_type": "markdown",
   "id": "200ec9b1-d18a-4487-af86-c8835d01244a",
   "metadata": {},
   "source": [
    "### Data reading\n",
    "\n",
    "I've already transformed the data so it looks like this:"
   ]
  },
  {
   "cell_type": "code",
   "execution_count": 6,
   "id": "38fa98e8-34aa-49ee-99a9-432f5d4cf69c",
   "metadata": {
    "tags": []
   },
   "outputs": [
    {
     "data": {
      "text/html": [
       "<div>\n",
       "<style scoped>\n",
       "    .dataframe tbody tr th:only-of-type {\n",
       "        vertical-align: middle;\n",
       "    }\n",
       "\n",
       "    .dataframe tbody tr th {\n",
       "        vertical-align: top;\n",
       "    }\n",
       "\n",
       "    .dataframe thead th {\n",
       "        text-align: right;\n",
       "    }\n",
       "</style>\n",
       "<table border=\"1\" class=\"dataframe\">\n",
       "  <thead>\n",
       "    <tr style=\"text-align: right;\">\n",
       "      <th></th>\n",
       "      <th>day</th>\n",
       "      <th>ward</th>\n",
       "      <th>count</th>\n",
       "    </tr>\n",
       "  </thead>\n",
       "  <tbody>\n",
       "    <tr>\n",
       "      <th>0</th>\n",
       "      <td>0</td>\n",
       "      <td>1</td>\n",
       "      <td>3.0</td>\n",
       "    </tr>\n",
       "    <tr>\n",
       "      <th>1</th>\n",
       "      <td>0</td>\n",
       "      <td>2</td>\n",
       "      <td>8.0</td>\n",
       "    </tr>\n",
       "    <tr>\n",
       "      <th>2</th>\n",
       "      <td>0</td>\n",
       "      <td>3</td>\n",
       "      <td>23.0</td>\n",
       "    </tr>\n",
       "    <tr>\n",
       "      <th>3</th>\n",
       "      <td>0</td>\n",
       "      <td>4</td>\n",
       "      <td>16.0</td>\n",
       "    </tr>\n",
       "    <tr>\n",
       "      <th>4</th>\n",
       "      <td>0</td>\n",
       "      <td>5</td>\n",
       "      <td>3.0</td>\n",
       "    </tr>\n",
       "  </tbody>\n",
       "</table>\n",
       "</div>"
      ],
      "text/plain": [
       "   day  ward  count\n",
       "0    0     1    3.0\n",
       "1    0     2    8.0\n",
       "2    0     3   23.0\n",
       "3    0     4   16.0\n",
       "4    0     5    3.0"
      ]
     },
     "execution_count": 6,
     "metadata": {},
     "output_type": "execute_result"
    }
   ],
   "source": [
    "total_patients_per_ward = pd.read_csv(\"../data/wards_py.csv\")\n",
    "total_patients_per_ward.head()"
   ]
  },
  {
   "cell_type": "code",
   "execution_count": 7,
   "id": "0764ed53-8c46-4b51-9e6f-c68ce368a010",
   "metadata": {
    "tags": []
   },
   "outputs": [],
   "source": [
    "total_patients_per_ward = np.array(total_patients_per_ward)"
   ]
  },
  {
   "cell_type": "markdown",
   "id": "aa538b4b-f6bf-425a-8c12-42b0d5329d33",
   "metadata": {
    "tags": []
   },
   "source": [
    "The same happens with the wards information"
   ]
  },
  {
   "cell_type": "code",
   "execution_count": 9,
   "id": "35b76b78-c4de-4706-ae49-c8e47f2c86a4",
   "metadata": {
    "tags": []
   },
   "outputs": [
    {
     "data": {
      "text/html": [
       "<div>\n",
       "<style scoped>\n",
       "    .dataframe tbody tr th:only-of-type {\n",
       "        vertical-align: middle;\n",
       "    }\n",
       "\n",
       "    .dataframe tbody tr th {\n",
       "        vertical-align: top;\n",
       "    }\n",
       "\n",
       "    .dataframe thead th {\n",
       "        text-align: right;\n",
       "    }\n",
       "</style>\n",
       "<table border=\"1\" class=\"dataframe\">\n",
       "  <thead>\n",
       "    <tr style=\"text-align: right;\">\n",
       "      <th></th>\n",
       "      <th>day</th>\n",
       "      <th>ward</th>\n",
       "      <th>MRN</th>\n",
       "      <th>is_new</th>\n",
       "      <th>weight</th>\n",
       "      <th>next_day</th>\n",
       "    </tr>\n",
       "  </thead>\n",
       "  <tbody>\n",
       "    <tr>\n",
       "      <th>0</th>\n",
       "      <td>0</td>\n",
       "      <td>1</td>\n",
       "      <td>1</td>\n",
       "      <td>1</td>\n",
       "      <td>1.0</td>\n",
       "      <td>1510</td>\n",
       "    </tr>\n",
       "    <tr>\n",
       "      <th>1</th>\n",
       "      <td>0</td>\n",
       "      <td>1</td>\n",
       "      <td>2</td>\n",
       "      <td>1</td>\n",
       "      <td>1.0</td>\n",
       "      <td>1511</td>\n",
       "    </tr>\n",
       "    <tr>\n",
       "      <th>2</th>\n",
       "      <td>0</td>\n",
       "      <td>1</td>\n",
       "      <td>3</td>\n",
       "      <td>1</td>\n",
       "      <td>1.0</td>\n",
       "      <td>1512</td>\n",
       "    </tr>\n",
       "    <tr>\n",
       "      <th>3</th>\n",
       "      <td>0</td>\n",
       "      <td>2</td>\n",
       "      <td>4</td>\n",
       "      <td>1</td>\n",
       "      <td>1.0</td>\n",
       "      <td>1513</td>\n",
       "    </tr>\n",
       "    <tr>\n",
       "      <th>4</th>\n",
       "      <td>0</td>\n",
       "      <td>2</td>\n",
       "      <td>5</td>\n",
       "      <td>1</td>\n",
       "      <td>1.0</td>\n",
       "      <td>1514</td>\n",
       "    </tr>\n",
       "  </tbody>\n",
       "</table>\n",
       "</div>"
      ],
      "text/plain": [
       "   day  ward  MRN  is_new  weight  next_day\n",
       "0    0     1    1       1     1.0      1510\n",
       "1    0     1    2       1     1.0      1511\n",
       "2    0     1    3       1     1.0      1512\n",
       "3    0     2    4       1     1.0      1513\n",
       "4    0     2    5       1     1.0      1514"
      ]
     },
     "execution_count": 9,
     "metadata": {},
     "output_type": "execute_result"
    }
   ],
   "source": [
    "ward_matrix = pd.read_csv(\"../data/patients_py.csv\")\n",
    "ward_matrix.head()"
   ]
  },
  {
   "cell_type": "markdown",
   "id": "d3b6f1e2-25e7-4d74-9b8a-3461959ccfdc",
   "metadata": {},
   "source": [
    "Column `is_new` is equal to 1 if the patient is its first day (new arrival) or 0 if it was already there the previous day. `next_day` corresponds to the row number where the patient appears in `day + 1`. If they don't appear in `day + 1` they are set to negative. "
   ]
  },
  {
   "cell_type": "code",
   "execution_count": 10,
   "id": "74f1638d-1847-43d8-a7d7-6e5dcc9cb9e0",
   "metadata": {
    "tags": []
   },
   "outputs": [],
   "source": [
    "initial_patients = ward_matrix[ward_matrix[\"day\"] == 0].shape[0]\n",
    "ward_matrix = np.array(ward_matrix)"
   ]
  },
  {
   "cell_type": "markdown",
   "id": "81a343cb-3f1a-41f4-ad44-20c71005aff8",
   "metadata": {
    "tags": []
   },
   "source": [
    "I'm going to test 100 different parameters but one can easily test the same parameters with 100 different initial conditions or the same parameters and same initial conditions"
   ]
  },
  {
   "cell_type": "code",
   "execution_count": 11,
   "id": "be704f41-1fc3-4451-b745-056ed0ecbf8a",
   "metadata": {
    "tags": []
   },
   "outputs": [],
   "source": [
    "#Create 100 simulations\n",
    "num_parameters = 100\n",
    "\n",
    "#Initial colonized values represent the probability that each patient starts up colonized\n",
    "colonized_day_0 = 0.2*np.ones(shape = (initial_patients, num_parameters))\n",
    "\n",
    "#Create the parameter matrix\n",
    "parameters = np.array([\n",
    "                    np.linspace(0.1, 0.9, num_parameters), #Alpha\n",
    "                    np.linspace(0.2, 0.5, num_parameters), #Beta\n",
    "                    np.linspace(0.5, 0.7, num_parameters), #Gamma\n",
    "                    ]).transpose()"
   ]
  },
  {
   "cell_type": "code",
   "execution_count": 12,
   "id": "9c3146b4-2be7-47d0-8065-d249bc1942ad",
   "metadata": {
    "tags": []
   },
   "outputs": [
    {
     "name": "stdout",
     "output_type": "stream",
     "text": [
      "17.1 s ± 3.02 s per loop (mean ± std. dev. of 50 runs, 1 loop each)\n"
     ]
    }
   ],
   "source": [
    "#Run the model 50 times to calculate how much does it take to run on average as well as the standard deviation\n",
    "#Note that this time is what it took to run not 1 but 100 simulations\n",
    "%timeit -n1 -r50 amro.simulate_discrete_model_internal_one(colonized_day_0, ward_matrix, total_patients_per_ward, parameters, 1)"
   ]
  },
  {
   "cell_type": "markdown",
   "id": "28462cd6-8abc-4389-ae06-05b3e50a8773",
   "metadata": {},
   "source": [
    "### Session info"
   ]
  },
  {
   "cell_type": "code",
   "execution_count": 13,
   "id": "a60db45a-2113-4ff4-908a-5de601534202",
   "metadata": {},
   "outputs": [
    {
     "data": {
      "text/html": [
       "<details>\n",
       "<summary>Click to view session information</summary>\n",
       "<pre>\n",
       "-----\n",
       "amro                0.0.2\n",
       "numpy               1.25.2\n",
       "pandas              2.0.3\n",
       "session_info        1.0.0\n",
       "-----\n",
       "</pre>\n",
       "<details>\n",
       "<summary>Click to view modules imported as dependencies</summary>\n",
       "<pre>\n",
       "CoreFoundation              NA\n",
       "Foundation                  NA\n",
       "PyObjCTools                 NA\n",
       "anyio                       NA\n",
       "appnope                     0.1.3\n",
       "arrow                       1.2.3\n",
       "asttokens                   NA\n",
       "attr                        23.1.0\n",
       "attrs                       23.1.0\n",
       "babel                       2.12.1\n",
       "backcall                    0.2.0\n",
       "brotli                      1.0.9\n",
       "certifi                     2023.07.22\n",
       "charset_normalizer          3.2.0\n",
       "comm                        0.1.4\n",
       "cython_runtime              NA\n",
       "dateutil                    2.8.2\n",
       "debugpy                     1.6.8\n",
       "decorator                   5.1.1\n",
       "executing                   1.2.0\n",
       "fastjsonschema              NA\n",
       "fqdn                        NA\n",
       "idna                        3.4\n",
       "ipykernel                   6.25.0\n",
       "isoduration                 NA\n",
       "jedi                        0.19.0\n",
       "jinja2                      3.1.2\n",
       "json5                       NA\n",
       "jsonpointer                 2.0\n",
       "jsonschema                  4.18.6\n",
       "jsonschema_specifications   NA\n",
       "jupyter_events              0.7.0\n",
       "jupyter_server              2.7.0\n",
       "jupyterlab_server           2.24.0\n",
       "markupsafe                  2.1.3\n",
       "mpl_toolkits                NA\n",
       "nbformat                    5.9.2\n",
       "objc                        9.2\n",
       "overrides                   NA\n",
       "packaging                   23.1\n",
       "parso                       0.8.3\n",
       "pexpect                     4.8.0\n",
       "pickleshare                 0.7.5\n",
       "pkg_resources               NA\n",
       "platformdirs                3.10.0\n",
       "prometheus_client           NA\n",
       "prompt_toolkit              3.0.39\n",
       "psutil                      5.9.5\n",
       "ptyprocess                  0.7.0\n",
       "pure_eval                   0.2.2\n",
       "pydev_ipython               NA\n",
       "pydevconsole                NA\n",
       "pydevd                      2.9.5\n",
       "pydevd_file_utils           NA\n",
       "pydevd_plugins              NA\n",
       "pydevd_tracing              NA\n",
       "pygments                    2.15.1\n",
       "pythonjsonlogger            NA\n",
       "pytz                        2023.3\n",
       "referencing                 NA\n",
       "requests                    2.31.0\n",
       "rfc3339_validator           0.1.4\n",
       "rfc3986_validator           0.1.1\n",
       "rpds                        NA\n",
       "send2trash                  NA\n",
       "six                         1.16.0\n",
       "sniffio                     1.3.0\n",
       "socks                       1.7.1\n",
       "stack_data                  0.6.2\n",
       "tornado                     6.3.2\n",
       "traitlets                   5.9.0\n",
       "uri_template                NA\n",
       "urllib3                     2.0.4\n",
       "wcwidth                     0.2.6\n",
       "webcolors                   1.13\n",
       "websocket                   1.6.1\n",
       "yaml                        6.0\n",
       "zmq                         25.1.0\n",
       "</pre>\n",
       "</details> <!-- seems like this ends pre, so might as well be explicit -->\n",
       "<pre>\n",
       "-----\n",
       "IPython             8.14.0\n",
       "jupyter_client      8.3.0\n",
       "jupyter_core        5.3.1\n",
       "jupyterlab          4.0.4\n",
       "-----\n",
       "Python 3.11.4 | packaged by conda-forge | (main, Jun 10 2023, 18:10:28) [Clang 15.0.7 ]\n",
       "macOS-13.4.1-x86_64-i386-64bit\n",
       "-----\n",
       "Session information updated at 2023-08-03 18:47\n",
       "</pre>\n",
       "</details>"
      ],
      "text/plain": [
       "<IPython.core.display.HTML object>"
      ]
     },
     "execution_count": 13,
     "metadata": {},
     "output_type": "execute_result"
    }
   ],
   "source": [
    "import session_info\n",
    "session_info.show()"
   ]
  }
 ],
 "metadata": {
  "kernelspec": {
   "display_name": "Python 3 (ipykernel)",
   "language": "python",
   "name": "python3"
  },
  "language_info": {
   "codemirror_mode": {
    "name": "ipython",
    "version": 3
   },
   "file_extension": ".py",
   "mimetype": "text/x-python",
   "name": "python",
   "nbconvert_exporter": "python",
   "pygments_lexer": "ipython3",
   "version": "3.11.4"
  }
 },
 "nbformat": 4,
 "nbformat_minor": 5
}
